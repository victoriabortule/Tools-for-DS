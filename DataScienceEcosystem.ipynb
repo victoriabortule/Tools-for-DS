{
 "cells": [
  {
   "cell_type": "markdown",
   "id": "1f5811f4-32b6-4e8d-b775-32977ef6f073",
   "metadata": {},
   "source": [
    "# Data Science Tools and Ecosystem"
   ]
  },
  {
   "cell_type": "markdown",
   "id": "3df0c17c-0ebb-484d-93a2-1577799aecc5",
   "metadata": {},
   "source": [
    "## INTRODUCTION\n",
    "In this notebook, Data Science Tools and Ecosystem are summarized."
   ]
  },
  {
   "cell_type": "markdown",
   "id": "22218f60-b5d3-4067-aaa3-4518915023fd",
   "metadata": {},
   "source": [
    "Some of the popular languages that Data Scientists use are:\n",
    "1. Pyhton\n",
    "2. R\n",
    "3. SQL\n",
    "4. Julia"
   ]
  },
  {
   "cell_type": "markdown",
   "id": "792a51b5-e4df-4b4c-9ba8-5e8cd062996b",
   "metadata": {},
   "source": [
    "Some of the commonly used libraries used by Data Scientists include:\n",
    "1. Python: PyTorch, Numpy, Pandas, Matplotlib, Scikit-learn\n",
    "2. R: tidyr, dplyr,ggplot2\n",
    "3. SQL: SQLite, MySQL\n",
    "4. Julia: MLJ.jl, DataFrames.jl, Flux.jl"
   ]
  },
  {
   "cell_type": "markdown",
   "id": "2cfa00f6-1056-4325-800b-7207857b5313",
   "metadata": {},
   "source": [
    "| Data Science Tools |\n",
    "| ------------------ |\n",
    "| Jupyter Notebook |\n",
    "| Rstudio |\n",
    "| Visual Studio Code |"
   ]
  },
  {
   "cell_type": "markdown",
   "id": "032a56a4-8614-4804-9545-1b6308224b5a",
   "metadata": {},
   "source": [
    "### Below are a few examples of evaluating arithmetic expressions in Python ###"
   ]
  },
  {
   "cell_type": "code",
   "execution_count": 2,
   "id": "dcb147e3-6eba-43fb-a240-ef2a61b5eea4",
   "metadata": {},
   "outputs": [
    {
     "data": {
      "text/plain": [
       "17"
      ]
     },
     "execution_count": 2,
     "metadata": {},
     "output_type": "execute_result"
    }
   ],
   "source": [
    "# This a simple arithmetic expression to mutiply then add integers\n",
    "(3*4)+5"
   ]
  },
  {
   "cell_type": "code",
   "execution_count": 4,
   "id": "85632fb5-b602-4593-81f0-48dcdd0987a5",
   "metadata": {},
   "outputs": [
    {
     "name": "stdout",
     "output_type": "stream",
     "text": [
      "3.3333333333333335\n"
     ]
    }
   ],
   "source": [
    "# This will convert 200 minutes to hours by diving by 60\n",
    "time_minutes= 200\n",
    "time_hours = time_minutes/60\n",
    "print(time_hours)"
   ]
  },
  {
   "cell_type": "markdown",
   "id": "c83e3979-9aee-44e0-9bd8-0a125d87082a",
   "metadata": {},
   "source": [
    "**Objectives:**\n",
    "- Know some of the most popular languages that Data Scientists use.\n",
    "- Know some of the commonly used libraries used by Data Scientists.\n",
    "- Learn how to execute simple arithmetic expressions in JUpyter notebook.\n",
    "- Learn the difference between a \"Markdown\" and a \"Code\" type cell.\n",
    "- Learn how to create a table."
   ]
  },
  {
   "cell_type": "markdown",
   "id": "480d6f7d-30ec-4ae8-a750-fae82b58149a",
   "metadata": {},
   "source": [
    "## Author\n",
    "María Victoria Bortule\n"
   ]
  },
  {
   "cell_type": "code",
   "execution_count": null,
   "id": "471b6b26-055d-4477-8bc9-589636fdf273",
   "metadata": {},
   "outputs": [],
   "source": []
  }
 ],
 "metadata": {
  "kernelspec": {
   "display_name": "Python 3 (ipykernel)",
   "language": "python",
   "name": "python3"
  },
  "language_info": {
   "codemirror_mode": {
    "name": "ipython",
    "version": 3
   },
   "file_extension": ".py",
   "mimetype": "text/x-python",
   "name": "python",
   "nbconvert_exporter": "python",
   "pygments_lexer": "ipython3",
   "version": "3.12.3"
  }
 },
 "nbformat": 4,
 "nbformat_minor": 5
}
